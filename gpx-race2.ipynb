{
 "cells": [
  {
   "cell_type": "markdown",
   "id": "e32737ff-c100-4479-a814-3503b7ad99e0",
   "metadata": {},
   "source": [
    "# Animate GPX tracks on the map\n",
    "\n",
    "The goal is to help aligning a raster orienteering map with GPS, align GPX tracks temporally and display them as a head-to-head race."
   ]
  },
  {
   "cell_type": "code",
   "execution_count": null,
   "id": "064468ab-a4dc-494e-a1b1-61090641b01b",
   "metadata": {},
   "outputs": [],
   "source": [
    "from time import sleep\n",
    "from itertools import chain, tee\n",
    "import base64\n",
    "from ipyleaflet import *\n",
    "from IPython.display import display, FileLink\n",
    "from ipywidgets import FileUpload\n",
    "import gpxpy\n",
    "from PIL import Image\n",
    "import numpy as np\n",
    "import cv2\n",
    "import folium\n",
    "from folium.plugins import TimestampedGeoJson"
   ]
  },
  {
   "cell_type": "markdown",
   "id": "b72766d7-8c0b-48ed-b10c-0f6779b6e010",
   "metadata": {},
   "source": [
    "## 1. Select a couple of GPX tracks"
   ]
  },
  {
   "cell_type": "code",
   "execution_count": null,
   "id": "f3f07362-c2d8-4592-b4d9-957ec61579e5",
   "metadata": {},
   "outputs": [],
   "source": [
    "upload = FileUpload(accept='.gpx', multiple=True)\n",
    "display(upload)"
   ]
  },
  {
   "cell_type": "markdown",
   "id": "e9a866f3-b298-4133-be77-f3e1dae83a0e",
   "metadata": {},
   "source": [
    "We can determine the working area from the first track now."
   ]
  },
  {
   "cell_type": "code",
   "execution_count": null,
   "id": "d34f3274-d0a2-4d69-8fb0-67eb55e0b641",
   "metadata": {},
   "outputs": [],
   "source": [
    "class Tracks:\n",
    "    def __init__(self, fnames):\n",
    "        self.points = [self.get_data(f) for f in fnames]\n",
    "        self.center = None\n",
    "        self.topleft = None\n",
    "        self.botright = None\n",
    "        self.calc_extents()\n",
    "\n",
    "    def get_data(self, fname):\n",
    "        points = []\n",
    "        with open(fname, 'r') as f:\n",
    "            gpx = gpxpy.parse(f)\n",
    "            for track in gpx.tracks:\n",
    "                for segment in track.segments:\n",
    "                    for point in segment.points:\n",
    "                        points.append((point.latitude, point.longitude,\n",
    "                                       point.speed, point.time))\n",
    "        return points\n",
    "\n",
    "    def calc_extents(self):\n",
    "        t = tee(chain.from_iterable(self.points), 4)\n",
    "        topleft = (min(p[0] for p in t[0]), min(p[1] for p in t[1]))\n",
    "        botright = (max(p[0] for p in t[2]), max(p[1] for p in t[3]))\n",
    "        width = botright[0] - topleft[0]\n",
    "        height = botright[1] - topleft[1]\n",
    "        self.center = (topleft[0] + 0.5 * width, topleft[1] + 0.5 * height)\n",
    "        margin = (width * 0.1, height * 0.1)\n",
    "        self.topleft = (topleft[0] - margin[0], topleft[1] - margin[1])\n",
    "        self.botright = (botright[0] + margin[0], botright[1] + margin[1])\n",
    "\n",
    "tracks = Tracks(upload.value)"
   ]
  },
  {
   "cell_type": "markdown",
   "id": "52ad1be8-cbd4-403b-8a8e-28c8bb415f50",
   "metadata": {},
   "source": [
    "## 2. Now upload a raster image of the orienteering map\n",
    "\n",
    "If this step is omitted, there will be no overlay."
   ]
  },
  {
   "cell_type": "code",
   "execution_count": null,
   "id": "f53b7e42-d06a-4dbb-a5f5-105ca2b14dfa",
   "metadata": {},
   "outputs": [],
   "source": [
    "upload = FileUpload(accept='image/*', multiple=False)\n",
    "display(upload)"
   ]
  },
  {
   "cell_type": "code",
   "execution_count": null,
   "id": "89039c2e-cb2f-4b44-bcf4-4adbc70115ed",
   "metadata": {},
   "outputs": [],
   "source": [
    "class ImgMap:\n",
    "    def __init__(self, fname):\n",
    "        self.fname = fname\n",
    "        self.image_file = Image.open(fname)\n",
    "        \n",
    "    def get_data(self):\n",
    "        with open(self.fname, 'rb') as f:\n",
    "            data = 'data:image/png;base64,'\n",
    "            data += base64.b64encode(f.read()).decode('utf-8')\n",
    "            return data\n",
    "    \n",
    "    def get_size(self):\n",
    "        return self.image_file.size\n",
    "\n",
    "    def get_xy(self, lat, lon):\n",
    "        w, h = self.get_size()\n",
    "        x = w * (lon - extents.topleft[1]) / (extents.botright[1] - extents.topleft[1])\n",
    "        y = h * (extents.botright[0] - lat) / (extents.botright[0] - extents.topleft[0])\n",
    "        return x, y\n",
    "    \n",
    "    def get_for_cv(self):\n",
    "        return cv2.cvtColor(np.array(self.image_file), cv2.COLOR_RGB2BGR)\n",
    "\n",
    "img_fname = next(iter(upload.value), None)\n",
    "if img_fname:\n",
    "    img_map = ImgMap(img_fname)"
   ]
  },
  {
   "cell_type": "code",
   "execution_count": null,
   "id": "683fd36d-5c0c-4d90-bfac-bc094551b8b2",
   "metadata": {},
   "outputs": [],
   "source": [
    "class ImageAnchors:\n",
    "    def __init__(self):\n",
    "        self.m = Map(center=tracks.center, zoom=13)\n",
    "\n",
    "        image = ImageOverlay(\n",
    "            url=img_map.get_data(),\n",
    "            bounds=(tracks.topleft, tracks.botright),\n",
    "            opacity=0.6\n",
    "        )\n",
    "        self.m.add_layer(image);\n",
    "\n",
    "        self.image_markers = []\n",
    "        for lat in (tracks.topleft[0], tracks.botright[0]):\n",
    "            for long in (tracks.topleft[1], tracks.botright[1]):\n",
    "                mark = Marker(location=(lat, long))\n",
    "                self.m.add_layer(mark)\n",
    "                self.image_markers.append(mark)\n",
    "\n",
    "if img_fname:\n",
    "    image_anchors = ImageAnchors()\n",
    "    image_anchors.m"
   ]
  },
  {
   "cell_type": "code",
   "execution_count": null,
   "id": "79b788a9-fc50-458a-9f4d-c2a035c4c2ba",
   "metadata": {},
   "outputs": [],
   "source": [
    "class MapAnchors:\n",
    "    def __init__(self):\n",
    "        self.m = Map(center=tracks.center, zoom=13)\n",
    "\n",
    "        track = Polyline(\n",
    "            locations=[[p[0], p[1]] for p in tracks[0]],\n",
    "            color='red',\n",
    "            weight=2,\n",
    "            fill=False,\n",
    "            opacity=0.6\n",
    "        )\n",
    "        self.m.add_layer(track);\n",
    "\n",
    "        self.image_markers = []\n",
    "        for lat in (tracks.topleft[0], tracks.botright[0]):\n",
    "            for long in (tracks.topleft[1], tracks.botright[1]):\n",
    "                mark = Marker(location=(lat, long))\n",
    "                self.m.add_layer(mark)\n",
    "                self.image_markers.append(mark)\n",
    " \n",
    "if img_fname:\n",
    "    map_anchors = MapAnchors()\n",
    "    map_anchors.m"
   ]
  },
  {
   "cell_type": "code",
   "execution_count": null,
   "id": "ab1636b1-2459-46b2-9f3d-7def954f9699",
   "metadata": {},
   "outputs": [],
   "source": [
    "if img_fname:\n",
    "    src_points = np.float32([img_map.get_xy(*p.location) for p in image_anchors.image_markers])\n",
    "    dst_points = np.float32([img_map.get_xy(*p.location) for p in map_anchors.image_markers])\n",
    "    mat = cv2.getPerspectiveTransform(src_points, dst_points)\n",
    "    img = img_map.get_for_cv()\n",
    "    img = cv2.warpPerspective(img, mat, img_map.get_size())\n",
    "    is_ok, aligned_map = cv2.imencode('.jpg', img)\n",
    "    is_ok"
   ]
  },
  {
   "cell_type": "code",
   "execution_count": null,
   "id": "71fb7af7-5566-4ea5-80bf-56b7564a940e",
   "metadata": {},
   "outputs": [],
   "source": [
    "class FinalMap:\n",
    "    def __init__(self):\n",
    "        self.m = folium.Map(location=tracks.center, zoom_start=14)\n",
    "\n",
    "        if img_fname:\n",
    "            data = 'data:image/jpeg;base64,'\n",
    "            data += base64.b64encode(aligned_map).decode('utf-8')\n",
    "            img = folium.raster_layers.ImageOverlay(\n",
    "                name=\"Orienteering map\",\n",
    "                image=data,\n",
    "                bounds=[tracks.topleft, tracks.botright],\n",
    "                opacity=1,\n",
    "                interactive=False,\n",
    "                cross_origin=False,\n",
    "                zindex=1,\n",
    "            )\n",
    "            img.add_to(self.m)\n",
    "\n",
    "        colors = ['red', 'blue', 'green', 'brown', 'darkcyan']\n",
    "\n",
    "        data = {\n",
    "            \"type\": \"FeatureCollection\",\n",
    "            \"features\": []\n",
    "        }\n",
    "\n",
    "        def add_track(color, points, dt):\n",
    "            feature = {\n",
    "                'type': 'Feature',\n",
    "                'geometry': {\n",
    "                    'type': 'LineString',\n",
    "                    'coordinates': [[p[1], p[0]] for p in points]\n",
    "                },\n",
    "                'properties': {\n",
    "                    'times': [(p[3].timestamp() + dt) * 1000 for p in points],\n",
    "                    'style': {\n",
    "                        'color': color,\n",
    "                        'opacity': 0.5,\n",
    "                    },\n",
    "                }\n",
    "            }\n",
    "            data['features'].append(feature)\n",
    "\n",
    "\n",
    "        for i, points in enumerate(tracks.points):\n",
    "            dt = (tracks.points[0][0][3] - points[0][3]).total_seconds()\n",
    "            add_track(colors[i], points, dt)\n",
    "\n",
    "        TimestampedGeoJson(data, period='PT5S', transition_time=50).add_to(self.m)\n",
    "        folium.LayerControl().add_to(self.m)\n",
    "\n",
    "final_map = FinalMap()\n",
    "final_map.m"
   ]
  },
  {
   "cell_type": "code",
   "execution_count": null,
   "id": "72c6e9e3-61a1-4b7d-94fc-5d139dc22687",
   "metadata": {},
   "outputs": [],
   "source": [
    "final_map.m.save('map.html')\n",
    "FileLink('map.html')"
   ]
  }
 ],
 "metadata": {
  "kernelspec": {
   "display_name": "Python 3 (ipykernel)",
   "language": "python",
   "name": "python3"
  },
  "language_info": {
   "codemirror_mode": {
    "name": "ipython",
    "version": 3
   },
   "file_extension": ".py",
   "mimetype": "text/x-python",
   "name": "python",
   "nbconvert_exporter": "python",
   "pygments_lexer": "ipython3",
   "version": "3.10.2"
  }
 },
 "nbformat": 4,
 "nbformat_minor": 5
}
