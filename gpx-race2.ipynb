{
 "cells": [
  {
   "cell_type": "markdown",
   "id": "d39522b5-6ce4-43dc-bc52-95b843d5e10c",
   "metadata": {},
   "source": [
    "# Animate GPX tracks on the map\n",
    "\n",
    "The goal is to help aligning a raster orienteering map with GPS, align GPX tracks temporally and display them as a head-to-head race."
   ]
  },
  {
   "cell_type": "code",
   "execution_count": 1,
   "id": "c05b251e-d728-4789-9a30-88aaec1cd4d6",
   "metadata": {
    "tags": []
   },
   "outputs": [],
   "source": [
    "from time import sleep\n",
    "from itertools import tee\n",
    "from IPython.display import display, FileLink\n",
    "import ipywidgets as widgets\n",
    "\n",
    "import sys\n",
    "sys.path.append(\"./src\")\n",
    "from tracks import Tracks\n",
    "from imgmap import ImgMap\n",
    "from anchors import Anchors\n",
    "from finalmap import FinalMap"
   ]
  },
  {
   "cell_type": "code",
   "execution_count": 2,
   "id": "3b8c7ecf-8a93-449e-b819-0069e902bf2b",
   "metadata": {},
   "outputs": [],
   "source": [
    "class App:\n",
    "    def __init__(self):\n",
    "        self.tracks = None\n",
    "        self.img_map = None\n",
    "        self.anchors = None\n",
    "        self.pictures = []\n",
    "        self.final_map = None\n",
    "        self.anchors_out = widgets.Output() #layout={'border': '1px solid black'})\n",
    "        self.map_out = widgets.Output() #layout={'border': '1px solid black'})\n",
    "\n",
    "    def get_download_btn(self):\n",
    "        download_btn = widgets.Button(description=\"Get the link\")\n",
    "        self.file_link = None\n",
    "        def on_download_btn_clicked(b):\n",
    "            if self.file_link:\n",
    "                return\n",
    "            self.final_map.m.save('map.html')\n",
    "            with self.map_out:\n",
    "                self.file_link = FileLink('map.html')\n",
    "                display(self.file_link)\n",
    "        download_btn.on_click(on_download_btn_clicked)\n",
    "        return download_btn\n",
    "        \n",
    "    def redraw_map_out(self):\n",
    "        self.map_out.clear_output()\n",
    "        self.final_map = FinalMap(self.tracks, self.anchors, self.pictures)\n",
    "        download_btn = self.get_download_btn()\n",
    "        with self.map_out:\n",
    "            display(self.final_map.m, download_btn)\n",
    "        \n",
    "    def set_tracks(self, files):\n",
    "        self.tracks = Tracks(files)\n",
    "        self.redraw_map_out()\n",
    "\n",
    "    def set_image(self, img):\n",
    "        self.img_map = ImgMap(img, self.tracks)\n",
    "        self.anchors = Anchors(self.img_map, self.tracks)\n",
    "        \n",
    "        plot_btn = widgets.Button(description=\"Plot the map\")\n",
    "        def on_plot_btn_clicked(b):\n",
    "            self.redraw_map_out()\n",
    "        plot_btn.on_click(on_plot_btn_clicked)\n",
    "\n",
    "        self.anchors_out.clear_output()\n",
    "        with self.anchors_out:\n",
    "            display(self.anchors.m, plot_btn)\n",
    "\n",
    "    def set_pictures(self, pics):\n",
    "        self.pictures = pics\n",
    "        self.redraw_map_out()\n",
    "\n",
    "app = App()"
   ]
  },
  {
   "cell_type": "code",
   "execution_count": 3,
   "id": "5ae5f4c6-afef-4f4d-8b14-df1cac4acc7c",
   "metadata": {
    "tags": []
   },
   "outputs": [],
   "source": [
    "import asyncio\n",
    "\n",
    "class Timer:\n",
    "    def __init__(self, timeout, callback):\n",
    "        self._timeout = timeout\n",
    "        self._callback = callback\n",
    "\n",
    "    async def _job(self):\n",
    "        await asyncio.sleep(self._timeout)\n",
    "        self._callback()\n",
    "\n",
    "    def start(self):\n",
    "        self._task = asyncio.ensure_future(self._job())\n",
    "\n",
    "    def cancel(self):\n",
    "        self._task.cancel()\n",
    "\n",
    "def debounce(wait):\n",
    "    \"\"\" Decorator that will postpone a function's\n",
    "        execution until after `wait` seconds\n",
    "        have elapsed since the last time it was invoked. \"\"\"\n",
    "    def decorator(fn):\n",
    "        timer = None\n",
    "        def debounced(*args, **kwargs):\n",
    "            nonlocal timer\n",
    "            def call_it():\n",
    "                fn(*args, **kwargs)\n",
    "            if timer is not None:\n",
    "                timer.cancel()\n",
    "            timer = Timer(wait, call_it)\n",
    "            timer.start()\n",
    "        return debounced\n",
    "    return decorator"
   ]
  },
  {
   "cell_type": "markdown",
   "id": "b72766d7-8c0b-48ed-b10c-0f6779b6e010",
   "metadata": {},
   "source": [
    "## 1. Select a couple of GPX tracks\n",
    "\n",
    "The working are will be determined from the first track."
   ]
  },
  {
   "cell_type": "code",
   "execution_count": 4,
   "id": "f3f07362-c2d8-4592-b4d9-957ec61579e5",
   "metadata": {},
   "outputs": [
    {
     "data": {
      "application/vnd.jupyter.widget-view+json": {
       "model_id": "4b61a8dd44d04020ac1db5b366ba3c5b",
       "version_major": 2,
       "version_minor": 0
      },
      "text/plain": [
       "FileUpload(value={}, accept='.gpx', description='Upload', multiple=True)"
      ]
     },
     "metadata": {},
     "output_type": "display_data"
    }
   ],
   "source": [
    "gpx_upload = widgets.FileUpload(accept='.gpx', multiple=True)\n",
    "display(gpx_upload)\n",
    "\n",
    "#@debounce(0.2)\n",
    "def on_tracks_value_change(change):\n",
    "    app.set_tracks([file['content'] for file in gpx_upload.value.values()])\n",
    "\n",
    "gpx_upload.observe(on_tracks_value_change, names='value')"
   ]
  },
  {
   "cell_type": "markdown",
   "id": "52ad1be8-cbd4-403b-8a8e-28c8bb415f50",
   "metadata": {},
   "source": [
    "## 2. Now upload a raster image of the orienteering map\n",
    "\n",
    "\n",
    "Select features on the image as far from each other as possible.\n",
    "Then mark the same features on the map.\n",
    "\n",
    "If this step is omitted, there will be no overlay."
   ]
  },
  {
   "cell_type": "code",
   "execution_count": 5,
   "id": "f53b7e42-d06a-4dbb-a5f5-105ca2b14dfa",
   "metadata": {},
   "outputs": [
    {
     "data": {
      "application/vnd.jupyter.widget-view+json": {
       "model_id": "69452084935a486f9dce6b11a8601da3",
       "version_major": 2,
       "version_minor": 0
      },
      "text/plain": [
       "FileUpload(value={}, accept='image/*', description='Upload')"
      ]
     },
     "metadata": {},
     "output_type": "display_data"
    },
    {
     "data": {
      "application/vnd.jupyter.widget-view+json": {
       "model_id": "41dd8f5d4da2400c862a2c5c77bbcc91",
       "version_major": 2,
       "version_minor": 0
      },
      "text/plain": [
       "Output()"
      ]
     },
     "metadata": {},
     "output_type": "display_data"
    }
   ],
   "source": [
    "img_upload = widgets.FileUpload(accept='image/*', multiple=False)\n",
    "display(img_upload, app.anchors_out)\n",
    "\n",
    "#@debounce(0.2)\n",
    "def on_img_value_change(change):\n",
    "    img = next(iter(img_upload.value.values()), None)\n",
    "    if img:\n",
    "        app.set_image(img['content'])\n",
    "\n",
    "img_upload.observe(on_img_value_change, names='value')"
   ]
  },
  {
   "cell_type": "markdown",
   "id": "b4471748-db57-4be8-9732-9c032635141d",
   "metadata": {},
   "source": [
    "## 3. Upload some positional images"
   ]
  },
  {
   "cell_type": "code",
   "execution_count": 6,
   "id": "682dc0ac-c71a-42ae-b4f1-27a64eb90827",
   "metadata": {},
   "outputs": [
    {
     "data": {
      "application/vnd.jupyter.widget-view+json": {
       "model_id": "cb67adcd98ee484d9f5441197a59887a",
       "version_major": 2,
       "version_minor": 0
      },
      "text/plain": [
       "FileUpload(value={}, accept='image/*', description='Upload', multiple=True)"
      ]
     },
     "metadata": {},
     "output_type": "display_data"
    }
   ],
   "source": [
    "pics_upload = widgets.FileUpload(accept='image/*', multiple=True)\n",
    "display(pics_upload)\n",
    "\n",
    "def on_pics_value_change(change):\n",
    "    app.set_pictures([i['content'] for i in pics_upload.value.values()])\n",
    "\n",
    "pics_upload.observe(on_pics_value_change, names='value')"
   ]
  },
  {
   "cell_type": "markdown",
   "id": "8728ae7a-3eb0-4756-bbe3-090851ff24e8",
   "metadata": {},
   "source": [
    "## 4. Get the map with the aligned image map and track race"
   ]
  },
  {
   "cell_type": "code",
   "execution_count": 7,
   "id": "71fb7af7-5566-4ea5-80bf-56b7564a940e",
   "metadata": {},
   "outputs": [
    {
     "data": {
      "application/vnd.jupyter.widget-view+json": {
       "model_id": "368c118c3acf47c191203ec7243f8795",
       "version_major": 2,
       "version_minor": 0
      },
      "text/plain": [
       "Output()"
      ]
     },
     "metadata": {},
     "output_type": "display_data"
    }
   ],
   "source": [
    "display(app.map_out)"
   ]
  }
 ],
 "metadata": {
  "kernelspec": {
   "display_name": "Python 3 (ipykernel)",
   "language": "python",
   "name": "python3"
  },
  "language_info": {
   "codemirror_mode": {
    "name": "ipython",
    "version": 3
   },
   "file_extension": ".py",
   "mimetype": "text/x-python",
   "name": "python",
   "nbconvert_exporter": "python",
   "pygments_lexer": "ipython3",
   "version": "3.10.8"
  }
 },
 "nbformat": 4,
 "nbformat_minor": 5
}
