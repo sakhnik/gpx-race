{
 "cells": [
  {
   "cell_type": "markdown",
   "id": "d39522b5-6ce4-43dc-bc52-95b843d5e10c",
   "metadata": {},
   "source": [
    "# Animate GPX tracks on the map\n",
    "\n",
    "The goal is to help aligning a raster orienteering map with GPS, align GPX tracks temporally and display them as a head-to-head race."
   ]
  },
  {
   "cell_type": "code",
   "execution_count": null,
   "id": "c05b251e-d728-4789-9a30-88aaec1cd4d6",
   "metadata": {
    "tags": []
   },
   "outputs": [],
   "source": [
    "from IPython.display import display, FileLink\n",
    "import ipywidgets as widgets\n",
    "\n",
    "import sys\n",
    "sys.path.append(\"./src\")\n",
    "from app import App\n",
    "\n",
    "app = App()"
   ]
  },
  {
   "cell_type": "markdown",
   "id": "b72766d7-8c0b-48ed-b10c-0f6779b6e010",
   "metadata": {},
   "source": [
    "## 1. Select a couple of GPX tracks\n",
    "\n",
    "The working are will be determined from the first track."
   ]
  },
  {
   "cell_type": "code",
   "execution_count": null,
   "id": "f3f07362-c2d8-4592-b4d9-957ec61579e5",
   "metadata": {},
   "outputs": [],
   "source": [
    "gpx_upload = widgets.FileUpload(accept='.gpx', multiple=True)\n",
    "display(gpx_upload)\n",
    "\n",
    "#@debounce(0.2)\n",
    "def on_tracks_value_change(change):\n",
    "    app.set_tracks([file['content'] for file in gpx_upload.value.values()])\n",
    "\n",
    "gpx_upload.observe(on_tracks_value_change, names='value')"
   ]
  },
  {
   "cell_type": "markdown",
   "id": "52ad1be8-cbd4-403b-8a8e-28c8bb415f50",
   "metadata": {},
   "source": [
    "## 2. Now upload a raster image of the orienteering map\n",
    "\n",
    "\n",
    "Select features on the image as far from each other as possible.\n",
    "Then mark the same features on the map.\n",
    "\n",
    "If this step is omitted, there will be no overlay."
   ]
  },
  {
   "cell_type": "code",
   "execution_count": null,
   "id": "f53b7e42-d06a-4dbb-a5f5-105ca2b14dfa",
   "metadata": {},
   "outputs": [],
   "source": [
    "img_upload = widgets.FileUpload(accept='image/*', multiple=False)\n",
    "display(img_upload, app.anchors_out)\n",
    "\n",
    "#@debounce(0.2)\n",
    "def on_img_value_change(change):\n",
    "    img = next(iter(img_upload.value.values()), None)\n",
    "    if img:\n",
    "        app.set_image(img['content'])\n",
    "\n",
    "img_upload.observe(on_img_value_change, names='value')"
   ]
  },
  {
   "cell_type": "markdown",
   "id": "b4471748-db57-4be8-9732-9c032635141d",
   "metadata": {},
   "source": [
    "## 3. Upload some positional images"
   ]
  },
  {
   "cell_type": "code",
   "execution_count": null,
   "id": "682dc0ac-c71a-42ae-b4f1-27a64eb90827",
   "metadata": {},
   "outputs": [],
   "source": [
    "pics_upload = widgets.FileUpload(accept='image/*', multiple=True)\n",
    "display(pics_upload)\n",
    "\n",
    "def on_pics_value_change(change):\n",
    "    app.set_pictures([i['content'] for i in pics_upload.value.values()])\n",
    "\n",
    "pics_upload.observe(on_pics_value_change, names='value')"
   ]
  },
  {
   "cell_type": "markdown",
   "id": "8728ae7a-3eb0-4756-bbe3-090851ff24e8",
   "metadata": {},
   "source": [
    "## 4. Get the map with the aligned image map and track race"
   ]
  },
  {
   "cell_type": "code",
   "execution_count": null,
   "id": "71fb7af7-5566-4ea5-80bf-56b7564a940e",
   "metadata": {},
   "outputs": [],
   "source": [
    "display(app.map_out)"
   ]
  }
 ],
 "metadata": {
  "kernelspec": {
   "display_name": "Python 3 (ipykernel)",
   "language": "python",
   "name": "python3"
  },
  "language_info": {
   "codemirror_mode": {
    "name": "ipython",
    "version": 3
   },
   "file_extension": ".py",
   "mimetype": "text/x-python",
   "name": "python",
   "nbconvert_exporter": "python",
   "pygments_lexer": "ipython3",
   "version": "3.10.8"
  }
 },
 "nbformat": 4,
 "nbformat_minor": 5
}
