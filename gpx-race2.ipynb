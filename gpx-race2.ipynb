{
 "cells": [
  {
   "cell_type": "code",
   "execution_count": 13,
   "id": "064468ab-a4dc-494e-a1b1-61090641b01b",
   "metadata": {},
   "outputs": [],
   "source": [
    "from time import sleep\n",
    "from ipyleaflet import *\n",
    "from IPython.display import display\n",
    "from ipywidgets import FileUpload\n",
    "import gpxpy"
   ]
  },
  {
   "cell_type": "code",
   "execution_count": 14,
   "id": "f3f07362-c2d8-4592-b4d9-957ec61579e5",
   "metadata": {},
   "outputs": [
    {
     "data": {
      "application/vnd.jupyter.widget-view+json": {
       "model_id": "824dd37b2927484c9642322abb18ce88",
       "version_major": 2,
       "version_minor": 0
      },
      "text/plain": [
       "FileUpload(value={}, accept='.gpx', description='Upload', multiple=True)"
      ]
     },
     "metadata": {},
     "output_type": "display_data"
    }
   ],
   "source": [
    "upload = FileUpload(accept='.gpx', multiple=True)\n",
    "display(upload)"
   ]
  },
  {
   "cell_type": "code",
   "execution_count": 15,
   "id": "d34f3274-d0a2-4d69-8fb0-67eb55e0b641",
   "metadata": {},
   "outputs": [],
   "source": [
    "def get_data(fname):\n",
    "    points = []\n",
    "    with open(fname, 'r') as f:\n",
    "        gpx = gpxpy.parse(f)\n",
    "        for track in gpx.tracks:\n",
    "            for segment in track.segments:\n",
    "                for point in segment.points:\n",
    "                    points.append((point.latitude, point.longitude,\n",
    "                                   point.speed, point.time))\n",
    "    return points\n",
    "tracks = [get_data(f) for f in upload.value]"
   ]
  },
  {
   "cell_type": "code",
   "execution_count": 16,
   "id": "2770d688-0f9c-4056-87f2-52c84f25871e",
   "metadata": {},
   "outputs": [],
   "source": [
    "t = tracks[0]\n",
    "topleft = (min(p[0] for p in t), min(p[1] for p in t))\n",
    "botright = (max(p[0] for p in t), max(p[1] for p in t))\n",
    "center = (0.5 * (botright[0] + topleft[0]), 0.5 * (botright[1] + topleft[1]))"
   ]
  },
  {
   "cell_type": "code",
   "execution_count": 19,
   "id": "683fd36d-5c0c-4d90-bfac-bc094551b8b2",
   "metadata": {},
   "outputs": [
    {
     "data": {
      "application/vnd.jupyter.widget-view+json": {
       "model_id": "b214fb8e6d4241a58f593d4899d57b07",
       "version_major": 2,
       "version_minor": 0
      },
      "text/plain": [
       "Map(center=[50.48416435, 30.31976985], controls=(ZoomControl(options=['position', 'zoom_in_text', 'zoom_in_tit…"
      ]
     },
     "metadata": {},
     "output_type": "display_data"
    }
   ],
   "source": [
    "m = Map(center=center, zoom=13)\n",
    "\n",
    "image_markers = []\n",
    "for lat in (topleft[0], botright[0]):\n",
    "    for long in (topleft[1], botright[1]):\n",
    "        mark = Marker(location=(lat, long))\n",
    "        m.add_layer(mark)\n",
    "        image_markers.append(mark)\n",
    " \n",
    "display(m)"
   ]
  },
  {
   "cell_type": "code",
   "execution_count": 10,
   "id": "94fc9741-bd0e-4e36-b9a7-f76cd62550bc",
   "metadata": {},
   "outputs": [],
   "source": [
    "nb_steps = 10\n",
    "step = 0.1\n",
    "start_location = mark.location\n",
    "end_location = (52.2, 10)\n",
    "\n",
    "for i in range(nb_steps + 1):\n",
    "    percentage_animation = i / nb_steps\n",
    "    \n",
    "    a = 1 - percentage_animation\n",
    "    b = percentage_animation\n",
    "    \n",
    "    mark.location = (a * start_location[0] + b * end_location[0], a * start_location[1] + b * end_location[1])\n",
    "    \n",
    "    sleep(step)\n"
   ]
  }
 ],
 "metadata": {
  "kernelspec": {
   "display_name": "Python 3 (ipykernel)",
   "language": "python",
   "name": "python3"
  },
  "language_info": {
   "codemirror_mode": {
    "name": "ipython",
    "version": 3
   },
   "file_extension": ".py",
   "mimetype": "text/x-python",
   "name": "python",
   "nbconvert_exporter": "python",
   "pygments_lexer": "ipython3",
   "version": "3.10.1"
  }
 },
 "nbformat": 4,
 "nbformat_minor": 5
}
