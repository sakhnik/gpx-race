{
 "cells": [
  {
   "cell_type": "code",
   "execution_count": 83,
   "id": "064468ab-a4dc-494e-a1b1-61090641b01b",
   "metadata": {},
   "outputs": [],
   "source": [
    "from time import sleep\n",
    "from itertools import chain, tee\n",
    "import base64\n",
    "from ipyleaflet import *\n",
    "from IPython.display import display\n",
    "from ipywidgets import FileUpload\n",
    "import gpxpy\n",
    "from PIL import Image\n",
    "import numpy as np\n",
    "import cv2"
   ]
  },
  {
   "cell_type": "code",
   "execution_count": 56,
   "id": "f3f07362-c2d8-4592-b4d9-957ec61579e5",
   "metadata": {},
   "outputs": [
    {
     "data": {
      "application/vnd.jupyter.widget-view+json": {
       "model_id": "6350328a97784b94a458c45bea165831",
       "version_major": 2,
       "version_minor": 0
      },
      "text/plain": [
       "FileUpload(value={}, accept='.gpx', description='Upload', multiple=True)"
      ]
     },
     "metadata": {},
     "output_type": "display_data"
    }
   ],
   "source": [
    "upload = FileUpload(accept='.gpx', multiple=True)\n",
    "display(upload)"
   ]
  },
  {
   "cell_type": "code",
   "execution_count": 57,
   "id": "d34f3274-d0a2-4d69-8fb0-67eb55e0b641",
   "metadata": {},
   "outputs": [],
   "source": [
    "def get_data(fname):\n",
    "    points = []\n",
    "    with open(fname, 'r') as f:\n",
    "        gpx = gpxpy.parse(f)\n",
    "        for track in gpx.tracks:\n",
    "            for segment in track.segments:\n",
    "                for point in segment.points:\n",
    "                    points.append((point.latitude, point.longitude,\n",
    "                                   point.speed, point.time))\n",
    "    return points\n",
    "tracks = [get_data(f) for f in upload.value]"
   ]
  },
  {
   "cell_type": "code",
   "execution_count": 58,
   "id": "2770d688-0f9c-4056-87f2-52c84f25871e",
   "metadata": {},
   "outputs": [],
   "source": [
    "class Extents:\n",
    "    def __init__(self):\n",
    "        t = tee(chain.from_iterable(tracks), 4)\n",
    "        topleft = (min(p[0] for p in t[0]), min(p[1] for p in t[1]))\n",
    "        botright = (max(p[0] for p in t[2]), max(p[1] for p in t[3]))\n",
    "        width = botright[0] - topleft[0]\n",
    "        height = botright[1] - topleft[1]\n",
    "        self.center = (topleft[0] + 0.5 * width, topleft[1] + 0.5 * height)\n",
    "        margin = (width * 0.1, height * 0.1)\n",
    "        self.topleft = (topleft[0] - margin[0], topleft[1] - margin[1])\n",
    "        self.botright = (botright[0] + margin[0], botright[1] + margin[1])\n",
    "extents = Extents()"
   ]
  },
  {
   "cell_type": "code",
   "execution_count": 72,
   "id": "f53b7e42-d06a-4dbb-a5f5-105ca2b14dfa",
   "metadata": {},
   "outputs": [
    {
     "data": {
      "application/vnd.jupyter.widget-view+json": {
       "model_id": "63981406fad84c4a95c071792ea4077c",
       "version_major": 2,
       "version_minor": 0
      },
      "text/plain": [
       "FileUpload(value={}, accept='image/*', description='Upload')"
      ]
     },
     "metadata": {},
     "output_type": "display_data"
    }
   ],
   "source": [
    "upload = FileUpload(accept='image/*', multiple=False)\n",
    "display(upload)"
   ]
  },
  {
   "cell_type": "code",
   "execution_count": 116,
   "id": "89039c2e-cb2f-4b44-bcf4-4adbc70115ed",
   "metadata": {},
   "outputs": [],
   "source": [
    "class ImgMap:\n",
    "    def __init__(self, fname):\n",
    "        self.image_file = Image.open(fname)\n",
    "        \n",
    "    def get_data(self):\n",
    "        data = 'data:image/png;base64,'\n",
    "        data += base64.b64encode(self.image_file.fp.read()).decode('utf-8')\n",
    "        return data\n",
    "    \n",
    "    def get_size(self):\n",
    "        return self.image_file.size\n",
    "\n",
    "    def get_xy(self, lat, lon):\n",
    "        w, h = self.get_size()\n",
    "        x = w * (lon - extents.topleft[1]) / (extents.botright[1] - extents.topleft[1])\n",
    "        y = h * (extents.botright[0] - lat) / (extents.botright[0] - extents.topleft[0])\n",
    "        return x, y\n",
    "    \n",
    "    def get_for_cv(self):\n",
    "        return cv2.cvtColor(np.array(self.image_file), cv2.COLOR_RGB2BGR)\n",
    "\n",
    "img_map = ImgMap(next(iter(upload.value)))"
   ]
  },
  {
   "cell_type": "code",
   "execution_count": 73,
   "id": "683fd36d-5c0c-4d90-bfac-bc094551b8b2",
   "metadata": {},
   "outputs": [
    {
     "data": {
      "application/vnd.jupyter.widget-view+json": {
       "model_id": "b5c5c72d53fe4f1faed4f0c40afb5261",
       "version_major": 2,
       "version_minor": 0
      },
      "text/plain": [
       "Map(center=[50.32000875, 30.57678325], controls=(ZoomControl(options=['position', 'zoom_in_text', 'zoom_in_tit…"
      ]
     },
     "metadata": {},
     "output_type": "display_data"
    }
   ],
   "source": [
    "class ImageAnchors:\n",
    "    def __init__(self):\n",
    "        self.m = Map(center=extents.center, zoom=13)\n",
    "\n",
    "        image = ImageOverlay(\n",
    "            url=img_map.get_data(),\n",
    "            bounds=(extents.topleft, extents.botright),\n",
    "            opacity=0.6\n",
    "        )\n",
    "        self.m.add_layer(image);\n",
    "\n",
    "        self.image_markers = []\n",
    "        for lat in (extents.topleft[0], extents.botright[0]):\n",
    "            for long in (extents.topleft[1], extents.botright[1]):\n",
    "                mark = Marker(location=(lat, long))\n",
    "                self.m.add_layer(mark)\n",
    "                self.image_markers.append(mark)\n",
    " \n",
    "image_anchors = ImageAnchors()\n",
    "image_anchors.m"
   ]
  },
  {
   "cell_type": "code",
   "execution_count": 71,
   "id": "79b788a9-fc50-458a-9f4d-c2a035c4c2ba",
   "metadata": {},
   "outputs": [
    {
     "data": {
      "application/vnd.jupyter.widget-view+json": {
       "model_id": "334b2c119b454577ae50ae7c1fd7bc36",
       "version_major": 2,
       "version_minor": 0
      },
      "text/plain": [
       "Map(center=[50.32000875, 30.57678325], controls=(ZoomControl(options=['position', 'zoom_in_text', 'zoom_in_tit…"
      ]
     },
     "metadata": {},
     "output_type": "display_data"
    }
   ],
   "source": [
    "class MapAnchors:\n",
    "    def __init__(self):\n",
    "        self.m = Map(center=extents.center, zoom=13)\n",
    "\n",
    "        track = Polyline(\n",
    "            locations=[[p[0], p[1]] for p in tracks[0]],\n",
    "            color='red',\n",
    "            weight=2,\n",
    "            fill=False,\n",
    "            opacity=0.6\n",
    "        )\n",
    "        self.m.add_layer(track);\n",
    "\n",
    "        self.image_markers = []\n",
    "        for lat in (extents.topleft[0], extents.botright[0]):\n",
    "            for long in (extents.topleft[1], extents.botright[1]):\n",
    "                mark = Marker(location=(lat, long))\n",
    "                self.m.add_layer(mark)\n",
    "                self.image_markers.append(mark)\n",
    " \n",
    "map_anchors = MapAnchors()\n",
    "map_anchors.m"
   ]
  },
  {
   "cell_type": "code",
   "execution_count": 117,
   "id": "ab1636b1-2459-46b2-9f3d-7def954f9699",
   "metadata": {},
   "outputs": [
    {
     "data": {
      "text/plain": [
       "True"
      ]
     },
     "execution_count": 117,
     "metadata": {},
     "output_type": "execute_result"
    }
   ],
   "source": [
    "src_points = np.float32([img_map.get_xy(*p.location) for p in image_anchors.image_markers])\n",
    "dst_points = np.float32([img_map.get_xy(*p.location) for p in map_anchors.image_markers])\n",
    "mat = cv2.getPerspectiveTransform(src_points, dst_points)\n",
    "img = img_map.get_for_cv()\n",
    "img = cv2.warpPerspective(img, mat, img_map.get_size())\n",
    "is_ok, png_map = cv2.imencode('.png', img)\n",
    "is_ok"
   ]
  },
  {
   "cell_type": "code",
   "execution_count": 118,
   "id": "71fb7af7-5566-4ea5-80bf-56b7564a940e",
   "metadata": {},
   "outputs": [
    {
     "data": {
      "application/vnd.jupyter.widget-view+json": {
       "model_id": "87ce1dd2a6414e06bafc61c5bdd9dbd7",
       "version_major": 2,
       "version_minor": 0
      },
      "text/plain": [
       "Map(center=[50.32000875, 30.57678325], controls=(ZoomControl(options=['position', 'zoom_in_text', 'zoom_in_tit…"
      ]
     },
     "metadata": {},
     "output_type": "display_data"
    }
   ],
   "source": [
    "class FinalMap:\n",
    "    def __init__(self):\n",
    "        self.m = Map(center=extents.center, zoom=13)\n",
    "\n",
    "        data = 'data:image/png;base64,'\n",
    "        data += base64.b64encode(png_map).decode('utf-8')\n",
    "\n",
    "        image = ImageOverlay(\n",
    "            url=data,\n",
    "            bounds=(extents.topleft, extents.botright),\n",
    "            opacity=0.6\n",
    "        )\n",
    "        self.m.add_layer(image);\n",
    "\n",
    "        track = Polyline(\n",
    "            locations=[[p[0], p[1]] for p in tracks[0]],\n",
    "            color='red',\n",
    "            weight=2,\n",
    "            fill=False,\n",
    "            opacity=0.6\n",
    "        )\n",
    "        self.m.add_layer(track);\n",
    "\n",
    "final_map = FinalMap()\n",
    "final_map.m"
   ]
  },
  {
   "cell_type": "code",
   "execution_count": 10,
   "id": "94fc9741-bd0e-4e36-b9a7-f76cd62550bc",
   "metadata": {},
   "outputs": [],
   "source": [
    "nb_steps = 10\n",
    "step = 0.1\n",
    "start_location = mark.location\n",
    "end_location = (52.2, 10)\n",
    "\n",
    "for i in range(nb_steps + 1):\n",
    "    percentage_animation = i / nb_steps\n",
    "    \n",
    "    a = 1 - percentage_animation\n",
    "    b = percentage_animation\n",
    "    \n",
    "    mark.location = (a * start_location[0] + b * end_location[0], a * start_location[1] + b * end_location[1])\n",
    "    \n",
    "    sleep(step)\n"
   ]
  }
 ],
 "metadata": {
  "kernelspec": {
   "display_name": "Python 3 (ipykernel)",
   "language": "python",
   "name": "python3"
  },
  "language_info": {
   "codemirror_mode": {
    "name": "ipython",
    "version": 3
   },
   "file_extension": ".py",
   "mimetype": "text/x-python",
   "name": "python",
   "nbconvert_exporter": "python",
   "pygments_lexer": "ipython3",
   "version": "3.10.1"
  }
 },
 "nbformat": 4,
 "nbformat_minor": 5
}
